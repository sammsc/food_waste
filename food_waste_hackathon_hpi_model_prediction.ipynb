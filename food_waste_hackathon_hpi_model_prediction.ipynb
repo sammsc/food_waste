{
  "cells": [
    {
      "cell_type": "markdown",
      "id": "47822c3e",
      "metadata": {
        "id": "47822c3e",
        "papermill": {
          "duration": 0.016477,
          "end_time": "2025-07-31T16:35:11.003361",
          "exception": false,
          "start_time": "2025-07-31T16:35:10.986884",
          "status": "completed"
        },
        "tags": []
      },
      "source": [
        "# Food Waste Prediction Hackathon Getting Started\n",
        "\n",
        "This notebook provides a baseline model for predicting food waste from images and ingredient information.\n",
        "\n",
        "The goal is building a model that can help reduce food waste through better prediction and understanding of consumption patterns."
      ]
    },
    {
      "cell_type": "code",
      "execution_count": 1,
      "id": "84c5afc0",
      "metadata": {
        "execution": {
          "iopub.execute_input": "2025-07-31T16:35:11.035217Z",
          "iopub.status.busy": "2025-07-31T16:35:11.034497Z",
          "iopub.status.idle": "2025-07-31T16:35:11.040513Z",
          "shell.execute_reply": "2025-07-31T16:35:11.039978Z"
        },
        "papermill": {
          "duration": 0.023313,
          "end_time": "2025-07-31T16:35:11.041632",
          "exception": false,
          "start_time": "2025-07-31T16:35:11.018319",
          "status": "completed"
        },
        "tags": [],
        "id": "84c5afc0"
      },
      "outputs": [],
      "source": [
        "import os\n",
        "os.environ[\"TOKENIZERS_PARALLELISM\"] = \"false\""
      ]
    },
    {
      "cell_type": "markdown",
      "id": "5456244e",
      "metadata": {
        "id": "5456244e",
        "papermill": {
          "duration": 0.014491,
          "end_time": "2025-07-31T16:35:11.070681",
          "exception": false,
          "start_time": "2025-07-31T16:35:11.056190",
          "status": "completed"
        },
        "tags": []
      },
      "source": [
        "# Loading the Dataset\n",
        "We first load the curated Voxel51/food-waste-dataset from the hub using fiftyone. We see a lot of fields, the necessary ones to train the model are the `image`\n",
        ", `ingredient_name` and `return_quantity`."
      ]
    },
    {
      "cell_type": "code",
      "execution_count": 2,
      "id": "fd2a8448",
      "metadata": {
        "execution": {
          "iopub.execute_input": "2025-07-31T16:35:11.101008Z",
          "iopub.status.busy": "2025-07-31T16:35:11.100829Z",
          "iopub.status.idle": "2025-07-31T16:35:39.781996Z",
          "shell.execute_reply": "2025-07-31T16:35:39.781137Z"
        },
        "id": "fd2a8448",
        "papermill": {
          "duration": 28.697319,
          "end_time": "2025-07-31T16:35:39.783179",
          "exception": false,
          "start_time": "2025-07-31T16:35:11.085860",
          "status": "completed"
        },
        "tags": []
      },
      "outputs": [],
      "source": [
        "%pip install fiftyone==1.7.0 > /dev/null"
      ]
    },
    {
      "cell_type": "code",
      "execution_count": 3,
      "id": "26f27d21",
      "metadata": {
        "execution": {
          "iopub.execute_input": "2025-07-31T16:35:39.813888Z",
          "iopub.status.busy": "2025-07-31T16:35:39.813668Z",
          "iopub.status.idle": "2025-07-31T16:36:45.445003Z",
          "shell.execute_reply": "2025-07-31T16:36:45.443786Z"
        },
        "id": "26f27d21",
        "outputId": "49a40942-acb4-4499-937e-b637cf1835cd",
        "papermill": {
          "duration": 65.647824,
          "end_time": "2025-07-31T16:36:45.446135",
          "exception": true,
          "start_time": "2025-07-31T16:35:39.798311",
          "status": "failed"
        },
        "tags": [],
        "colab": {
          "base_uri": "https://localhost:8080/"
        }
      },
      "outputs": [
        {
          "output_type": "stream",
          "name": "stderr",
          "text": [
            "/usr/local/lib/python3.11/dist-packages/huggingface_hub/utils/_auth.py:94: UserWarning: \n",
            "The secret `HF_TOKEN` does not exist in your Colab secrets.\n",
            "To authenticate with the Hugging Face Hub, create a token in your settings tab (https://huggingface.co/settings/tokens), set it as secret in your Google Colab and restart your session.\n",
            "You will be able to reuse this secret in all of your notebooks.\n",
            "Please note that authentication is recommended but still optional to access public models or datasets.\n",
            "  warnings.warn(\n"
          ]
        },
        {
          "output_type": "stream",
          "name": "stdout",
          "text": [
            "Downloading config file fiftyone.yml from hadieo/food-waste-dataset\n"
          ]
        },
        {
          "output_type": "stream",
          "name": "stderr",
          "text": [
            "INFO:fiftyone.utils.huggingface:Downloading config file fiftyone.yml from hadieo/food-waste-dataset\n"
          ]
        },
        {
          "output_type": "stream",
          "name": "stdout",
          "text": [
            "Loading dataset\n"
          ]
        },
        {
          "output_type": "stream",
          "name": "stderr",
          "text": [
            "INFO:fiftyone.utils.huggingface:Loading dataset\n"
          ]
        },
        {
          "output_type": "stream",
          "name": "stdout",
          "text": [
            "Importing samples...\n"
          ]
        },
        {
          "output_type": "stream",
          "name": "stderr",
          "text": [
            "INFO:fiftyone.utils.data.importers:Importing samples...\n"
          ]
        },
        {
          "output_type": "stream",
          "name": "stdout",
          "text": [
            " 100% |█████████████████| 375/375 [235.6ms elapsed, 0s remaining, 1.8K samples/s]  \n"
          ]
        },
        {
          "output_type": "stream",
          "name": "stderr",
          "text": [
            "INFO:eta.core.utils: 100% |█████████████████| 375/375 [235.6ms elapsed, 0s remaining, 1.8K samples/s]  \n"
          ]
        },
        {
          "output_type": "stream",
          "name": "stdout",
          "text": [
            "Downloading 75 media files...\n"
          ]
        },
        {
          "output_type": "stream",
          "name": "stderr",
          "text": [
            "INFO:fiftyone.utils.huggingface:Downloading 75 media files...\n",
            "100%|██████████| 1/1 [00:06<00:00,  6.95s/it]\n"
          ]
        }
      ],
      "source": [
        "import fiftyone as fo\n",
        "from fiftyone.utils.huggingface import load_from_hub\n",
        "\n",
        "# Load the dataset\n",
        "# Note: other available arguments include 'max_samples', etc\n",
        "# dataset = load_from_hub(\"Voxel51/food-waste-dataset\", overwrite=True)\n",
        "dataset = load_from_hub(\"hadieo/food-waste-dataset\", overwrite=True)"
      ]
    },
    {
      "cell_type": "code",
      "execution_count": 4,
      "id": "0c724450",
      "metadata": {
        "execution": {
          "iopub.execute_input": "2025-07-31T14:59:00.723817Z",
          "iopub.status.busy": "2025-07-31T14:59:00.723341Z",
          "iopub.status.idle": "2025-07-31T14:59:00.729951Z",
          "shell.execute_reply": "2025-07-31T14:59:00.729362Z",
          "shell.execute_reply.started": "2025-07-31T14:59:00.723796Z"
        },
        "id": "0c724450",
        "papermill": {
          "duration": null,
          "end_time": null,
          "exception": null,
          "start_time": null,
          "status": "pending"
        },
        "tags": [],
        "colab": {
          "base_uri": "https://localhost:8080/"
        },
        "outputId": "4f167e23-55b4-43e3-d129-1d30fef49c2e"
      },
      "outputs": [
        {
          "output_type": "execute_result",
          "data": {
            "text/plain": [
              "Name:        hadieo/food-waste-dataset\n",
              "Media type:  image\n",
              "Num samples: 375\n",
              "Persistent:  False\n",
              "Tags:        []\n",
              "Sample fields:\n",
              "    id:                      fiftyone.core.fields.ObjectIdField\n",
              "    filepath:                fiftyone.core.fields.StringField\n",
              "    tags:                    fiftyone.core.fields.ListField(fiftyone.core.fields.StringField)\n",
              "    metadata:                fiftyone.core.fields.EmbeddedDocumentField(fiftyone.core.metadata.ImageMetadata)\n",
              "    created_at:              fiftyone.core.fields.DateTimeField\n",
              "    last_modified_at:        fiftyone.core.fields.DateTimeField\n",
              "    split:                   fiftyone.core.fields.StringField\n",
              "    bonid:                   fiftyone.core.fields.IntField\n",
              "    bon_id:                  fiftyone.core.fields.ListField(fiftyone.core.fields.IntField)\n",
              "    article_number:          fiftyone.core.fields.ListField(fiftyone.core.fields.IntField)\n",
              "    ingredient_name:         fiftyone.core.fields.ListField(fiftyone.core.fields.StringField)\n",
              "    piece_article:           fiftyone.core.fields.ListField(fiftyone.core.fields.StringField)\n",
              "    number_of_portions:      fiftyone.core.fields.ListField(fiftyone.core.fields.IntField)\n",
              "    weight_per_portion:      fiftyone.core.fields.ListField(fiftyone.core.fields.IntField)\n",
              "    weight_per_plate:        fiftyone.core.fields.ListField(fiftyone.core.fields.IntField)\n",
              "    kcal_per_plate:          fiftyone.core.fields.ListField(fiftyone.core.fields.StringField)\n",
              "    kj_per_plate:            fiftyone.core.fields.ListField(fiftyone.core.fields.StringField)\n",
              "    fat_per_plate:           fiftyone.core.fields.ListField(fiftyone.core.fields.StringField)\n",
              "    saturated_fat_per_plate: fiftyone.core.fields.ListField(fiftyone.core.fields.StringField)\n",
              "    carbohydrates_per_plate: fiftyone.core.fields.ListField(fiftyone.core.fields.StringField)\n",
              "    sugar_per_plate:         fiftyone.core.fields.ListField(fiftyone.core.fields.StringField)\n",
              "    protein_per_plate:       fiftyone.core.fields.ListField(fiftyone.core.fields.StringField)\n",
              "    salt_per_plate:          fiftyone.core.fields.ListField(fiftyone.core.fields.StringField)\n",
              "    return_quantity:         fiftyone.core.fields.ListField(fiftyone.core.fields.FloatField)\n",
              "    return_percentage:       fiftyone.core.fields.ListField(fiftyone.core.fields.FloatField)\n",
              "    dish:                    fiftyone.core.fields.StringField\n",
              "    portion_size:            fiftyone.core.fields.StringField\n",
              "    weight_before:           fiftyone.core.fields.IntField\n",
              "    kcal_before:             fiftyone.core.fields.StringField\n",
              "    kj_before:               fiftyone.core.fields.StringField\n",
              "    fat_before:              fiftyone.core.fields.StringField\n",
              "    saturated_fat_before:    fiftyone.core.fields.StringField\n",
              "    carbohydrates_before:    fiftyone.core.fields.StringField\n",
              "    sugar_before:            fiftyone.core.fields.StringField\n",
              "    protein_before:          fiftyone.core.fields.StringField\n",
              "    salt_before:             fiftyone.core.fields.StringField\n",
              "    weight_after:            fiftyone.core.fields.IntField\n",
              "    kcal_after:              fiftyone.core.fields.StringField\n",
              "    kj_after:                fiftyone.core.fields.StringField\n",
              "    fat_after:               fiftyone.core.fields.StringField\n",
              "    saturated_fat_after:     fiftyone.core.fields.StringField\n",
              "    carbohydrates_after:     fiftyone.core.fields.StringField\n",
              "    sugar_after:             fiftyone.core.fields.StringField\n",
              "    protein_after:           fiftyone.core.fields.StringField\n",
              "    salt_after:              fiftyone.core.fields.StringField\n",
              "    yoloe_segmentation:      fiftyone.core.fields.EmbeddedDocumentField(fiftyone.core.labels.Detections)\n",
              "    segmentation:            fiftyone.core.fields.EmbeddedDocumentField(fiftyone.core.labels.Detections)"
            ]
          },
          "metadata": {},
          "execution_count": 4
        }
      ],
      "source": [
        "dataset"
      ]
    },
    {
      "cell_type": "markdown",
      "id": "350587d2",
      "metadata": {
        "id": "350587d2",
        "papermill": {
          "duration": null,
          "end_time": null,
          "exception": null,
          "start_time": null,
          "status": "pending"
        },
        "tags": []
      },
      "source": [
        "# Data preprocessing\n",
        "\n",
        "To turn each ingredient name into a **usable numerical representation** we rely on the\n",
        "[Sentence-Transformers](https://www.sbert.net/) model\n",
        "`all-MiniLM-L6-v2`.  \n",
        "It encodes every ingredient into a **384-dimensional embedding** that captures semantic similarity\n",
        "(e.g. *“rice”* and *“basmati rice”* land close together).\n",
        "\n",
        "\n"
      ]
    },
    {
      "cell_type": "code",
      "execution_count": 5,
      "id": "5c211a09",
      "metadata": {
        "execution": {
          "iopub.execute_input": "2025-07-31T14:59:00.731032Z",
          "iopub.status.busy": "2025-07-31T14:59:00.730709Z",
          "iopub.status.idle": "2025-07-31T14:59:04.374603Z",
          "shell.execute_reply": "2025-07-31T14:59:04.373446Z",
          "shell.execute_reply.started": "2025-07-31T14:59:00.730990Z"
        },
        "id": "5c211a09",
        "papermill": {
          "duration": null,
          "end_time": null,
          "exception": null,
          "start_time": null,
          "status": "pending"
        },
        "tags": []
      },
      "outputs": [],
      "source": [
        "%pip install -U sentence-transformers > /dev/null"
      ]
    },
    {
      "cell_type": "code",
      "execution_count": 6,
      "id": "75ffcfb7",
      "metadata": {
        "execution": {
          "iopub.execute_input": "2025-07-31T14:59:04.377370Z",
          "iopub.status.busy": "2025-07-31T14:59:04.377083Z",
          "iopub.status.idle": "2025-07-31T14:59:18.104511Z",
          "shell.execute_reply": "2025-07-31T14:59:18.103825Z",
          "shell.execute_reply.started": "2025-07-31T14:59:04.377342Z"
        },
        "id": "75ffcfb7",
        "papermill": {
          "duration": null,
          "end_time": null,
          "exception": null,
          "start_time": null,
          "status": "pending"
        },
        "tags": [],
        "colab": {
          "base_uri": "https://localhost:8080/"
        },
        "outputId": "5bb1e86c-074d-4d01-eb78-d6c3520c1ee9"
      },
      "outputs": [
        {
          "output_type": "stream",
          "name": "stdout",
          "text": [
            "{'applesauce': 0, 'bread-dumplings': 1, 'breaded-fish-fillet': 2, 'brown-sauce': 3, 'carrot': 4, 'cauliflower': 5, 'chicken': 6, 'chicken-strips': 7, 'coleslaw': 8, 'cream': 9, 'diced-potatoes': 10, 'dressing-portion': 11, 'egg-spaetzle)': 12, 'gravy': 13, 'green-beans': 14, 'grilled-sausage': 15, 'ham-sausage': 16, 'iceberg-lettuce': 17, 'lentil-stew': 18, 'lentils': 19, 'light-sauce-or-white-sauce': 20, 'malt-beer-mustard-sauce': 21, 'mashed-potatoes': 22, 'mushrooms': 23, 'onion': 24, 'paprika-or-bell-pepper': 25, 'peas': 26, 'poached-meatballs': 27, 'pollock-or-coalfish': 28, 'pork-neck-roast': 29, 'potato-pancakes-or-potato-fritters': 30, 'potatoes': 31, 'red-cabbage': 32, 'rice': 33, 'roast-beef': 34, 'sauerkraut': 35, 'savoy-cabbage': 36, 'schnitzel-or-cutlet': 37, 'tomato-curry-sauce': 38, 'vegetable-based-cream': 39, 'zucchini-or-courgette': 40}\n"
          ]
        },
        {
          "output_type": "stream",
          "name": "stderr",
          "text": [
            "/usr/local/lib/python3.11/dist-packages/torch/nn/modules/module.py:1750: FutureWarning: `encoder_attention_mask` is deprecated and will be removed in version 4.55.0 for `BertSdpaSelfAttention.forward`.\n",
            "  return forward_call(*args, **kwargs)\n"
          ]
        }
      ],
      "source": [
        "import numpy as np, torch\n",
        "from sentence_transformers import SentenceTransformer\n",
        "\n",
        "\n",
        "MODEL_NAME = \"sentence-transformers/all-MiniLM-L6-v2\"\n",
        "sbert = SentenceTransformer(MODEL_NAME)\n",
        "\n",
        "all_ing = sorted({ing for s in dataset for ing in s[\"ingredient_name\"]})\n",
        "ing2idx = {ing: i for i, ing in enumerate(all_ing)}\n",
        "idx2ing = {i: ing for ing, i in ing2idx.items()}\n",
        "emb_matrix = sbert.encode(all_ing, convert_to_numpy=True)\n",
        "NUM_ING = len(ing2idx)\n",
        "print(ing2idx)"
      ]
    },
    {
      "cell_type": "markdown",
      "id": "365a0487",
      "metadata": {
        "id": "365a0487",
        "papermill": {
          "duration": null,
          "end_time": null,
          "exception": null,
          "start_time": null,
          "status": "pending"
        },
        "tags": []
      },
      "source": [
        "## Dataset\n",
        "\n",
        "This section converts the FiftyOne Dataset into a PyTorch data pipeline:\n",
        "\n",
        "- For every dish it:\n",
        "  1. resizes the photo so ResNet-18 can use it,\n",
        "  2. turns each ingredient name into a 384-number embedding,\n",
        "  3. writes the waste amounts into a target array.\n",
        "\n",
        "- `collate function` – builds a batch: it stacks the photos and targets, but keeps each dish’s ingredient list separate (because dishes have different numbers of ingredients).\n",
        "\n",
        "- `DataLoaders` – send these batches straight to the model (shuffled for training, fixed order for testing).\n",
        "\n",
        "The important features to train the baseline model are:\n",
        "- image -> PIL Image\n",
        "- ingredient_name -> List[str]\n",
        "- return_quantity -> List[float]"
      ]
    },
    {
      "cell_type": "code",
      "execution_count": 7,
      "id": "593df795",
      "metadata": {
        "execution": {
          "iopub.execute_input": "2025-07-31T14:59:18.105409Z",
          "iopub.status.busy": "2025-07-31T14:59:18.105211Z",
          "iopub.status.idle": "2025-07-31T14:59:18.120156Z",
          "shell.execute_reply": "2025-07-31T14:59:18.119567Z",
          "shell.execute_reply.started": "2025-07-31T14:59:18.105392Z"
        },
        "id": "593df795",
        "papermill": {
          "duration": null,
          "end_time": null,
          "exception": null,
          "start_time": null,
          "status": "pending"
        },
        "tags": []
      },
      "outputs": [],
      "source": [
        "from PIL import Image\n",
        "from torch.utils.data import DataLoader, Dataset\n",
        "from torchvision import transforms\n",
        "\n",
        "class FoodWasteTorchDataset(Dataset):\n",
        "    def __init__(self, view, img_tfms):\n",
        "        self.view = view\n",
        "        self.ids = view.values(\"id\")\n",
        "        self.img_tfms = img_tfms\n",
        "\n",
        "    def __len__(self):\n",
        "        return len(self.ids)\n",
        "\n",
        "    def __getitem__(self, idx):\n",
        "        s = self.view[self.ids[idx]]\n",
        "        img = self.img_tfms(Image.open(s.filepath).convert(\"RGB\"))\n",
        "\n",
        "        # ingredient embeddings (variable-length)\n",
        "        emb = torch.from_numpy(\n",
        "            np.stack([emb_matrix[ing2idx[i]] for i in s[\"ingredient_name\"]])\n",
        "        )\n",
        "\n",
        "        # regression target (g of waste per ingredient)\n",
        "        tgt = torch.zeros(len(ing2idx), dtype=torch.float32)\n",
        "        for ing, amt in zip(s[\"ingredient_name\"], s[\"return_quantity\"]):\n",
        "            if amt is not None:\n",
        "                tgt[ing2idx[ing]] = amt\n",
        "        return img, emb, tgt\n",
        "\n",
        "def collate(batch):\n",
        "    imgs, embs, tgts = zip(*batch)\n",
        "    return torch.stack(imgs), list(embs), torch.stack(tgts)\n",
        "\n",
        "tfms = transforms.Compose([\n",
        "    transforms.Resize((224, 224)),\n",
        "    transforms.ToTensor(),\n",
        "    transforms.Normalize(mean=[0.485, 0.456, 0.406],\n",
        "                         std=[0.229, 0.224, 0.225]),\n",
        "])\n",
        "\n",
        "train_view = dataset.match({\"split\": \"train\"})\n",
        "test_view  = dataset.match({\"split\": \"test\"})\n",
        "train_dataset = FoodWasteTorchDataset(train_view, tfms)\n",
        "test_dataset  = FoodWasteTorchDataset(test_view, tfms)\n",
        "train_loader = DataLoader(\n",
        "    train_dataset,\n",
        "    batch_size=32, shuffle=True, collate_fn=collate,\n",
        ")\n",
        "test_loader = DataLoader(\n",
        "    test_dataset,\n",
        "    batch_size=32, shuffle=False, collate_fn=collate,\n",
        ")"
      ]
    },
    {
      "cell_type": "markdown",
      "id": "7877bd2a",
      "metadata": {
        "id": "7877bd2a",
        "papermill": {
          "duration": null,
          "end_time": null,
          "exception": null,
          "start_time": null,
          "status": "pending"
        },
        "tags": []
      },
      "source": [
        "## Ingredient frequency balancing & noise\n",
        "\n",
        "Jittering prevents the model from over-confidently memorising exact waste numbers, while frequency balancing ensures it cares about both popular and rare ingredients during training. Together they yield a model that generalises better and treats every ingredient more fairly.\n",
        "\n",
        "- `jitter_targets`\n",
        "  - Adds a small random wobble (± ε grams) to every **non-zero** waste value.\n",
        "  - Keeps zeros at zero and clamps any negative results back up to 0.\n",
        "  - Goal: stop the model from memorising exact numbers and make it generalise better.\n",
        "\n",
        "- `frequency_balancing`\n",
        "  - Counts how often each ingredient appears in the **training set**.\n",
        "  - Converts those counts into weights:  \n",
        "    `weight = 1 / log(freq + 2)`  \n",
        "    &nbsp;&nbsp;• Rare ingredients → **large** weight  \n",
        "    &nbsp;&nbsp;• Common ingredients → **small** weight\n",
        "  - Normalises the weights so their average is 1, then moves the vector to the GPU/CPU.\n",
        "  - Goal: make errors on rare ingredients matter just as much as errors on frequent ones, so the model learns to predict all ingredients—not just the popular few."
      ]
    },
    {
      "cell_type": "code",
      "execution_count": 8,
      "id": "90da2fbb",
      "metadata": {
        "execution": {
          "iopub.execute_input": "2025-07-31T14:59:41.450796Z",
          "iopub.status.busy": "2025-07-31T14:59:41.450448Z",
          "iopub.status.idle": "2025-07-31T14:59:41.455736Z",
          "shell.execute_reply": "2025-07-31T14:59:41.455098Z",
          "shell.execute_reply.started": "2025-07-31T14:59:41.450773Z"
        },
        "id": "90da2fbb",
        "papermill": {
          "duration": null,
          "end_time": null,
          "exception": null,
          "start_time": null,
          "status": "pending"
        },
        "tags": []
      },
      "outputs": [],
      "source": [
        "def jitter_targets(targets, epsilon=1.0):\n",
        "    mask  = targets > 0\n",
        "    noise = torch.empty_like(targets).uniform_(-epsilon, epsilon)\n",
        "    jittered = targets + noise * mask.float()\n",
        "    return torch.clamp(jittered, min=0.)"
      ]
    },
    {
      "cell_type": "code",
      "execution_count": 9,
      "id": "1e4def1d",
      "metadata": {
        "execution": {
          "iopub.execute_input": "2025-07-31T14:59:41.916196Z",
          "iopub.status.busy": "2025-07-31T14:59:41.915900Z",
          "iopub.status.idle": "2025-07-31T14:59:47.291816Z",
          "shell.execute_reply": "2025-07-31T14:59:47.290787Z",
          "shell.execute_reply.started": "2025-07-31T14:59:41.916175Z"
        },
        "id": "1e4def1d",
        "papermill": {
          "duration": null,
          "end_time": null,
          "exception": null,
          "start_time": null,
          "status": "pending"
        },
        "tags": [],
        "colab": {
          "base_uri": "https://localhost:8080/"
        },
        "outputId": "2e357424-76f2-4aec-a5aa-75dfaa879fe6"
      },
      "outputs": [
        {
          "output_type": "stream",
          "name": "stdout",
          "text": [
            "cuda\n",
            "max weight: 1.938257098197937 min weight: 0.30083411931991577\n"
          ]
        }
      ],
      "source": [
        "device = torch.device(\"cuda\" if torch.cuda.is_available() else \"cpu\")\n",
        "print(device)\n",
        "freq = torch.zeros(NUM_ING, dtype=torch.long)\n",
        "\n",
        "for sample in train_dataset:\n",
        "  freq += (sample[2] > 0)\n",
        "\n",
        "w = 1.0 / torch.log(freq.float() + 2)\n",
        "w = w / w.mean()\n",
        "\n",
        "weight_vec = w.to(device)\n",
        "print(\"max weight:\", weight_vec.max().item(),\n",
        "      \"min weight:\", weight_vec.min().item())"
      ]
    },
    {
      "cell_type": "markdown",
      "id": "fa6a1e41",
      "metadata": {
        "id": "fa6a1e41",
        "papermill": {
          "duration": null,
          "end_time": null,
          "exception": null,
          "start_time": null,
          "status": "pending"
        },
        "tags": []
      },
      "source": [
        "# Model\n",
        "\n",
        "The multimodal regression model uses **both** the photo of a dish and the\n",
        "text-based ingredient embeddings to guess how many grams of each ingredient\n",
        "were left on the plate.\n",
        "\n",
        "The model is composed of:\n",
        "\n",
        "1. **Image branch – ResNet-18 backbone**  \n",
        "   * Takes the 224 × 224 RGB photo.  \n",
        "   * Outputs a 128-number vector that captures the visual appearance of the dish.\n",
        "\n",
        "2. **Ingredient branch – 2-layer MLP**  \n",
        "   * Compresses every 384-dim SBERT ingredient embedding down to 128 numbers.  \n",
        "   * Keeps the full list, so we still have *L* vectors (one per ingredient in that dish).\n",
        "\n",
        "3. **Cross-attention layer**  \n",
        "   * Lets the image vector “pay attention” to the ingredient vectors.  \n",
        "   * Produces a single 128-dim ingredient summary that focuses on the ingredients\n",
        "     most visible in the photo.\n",
        "\n",
        "4. **Fusion layer**  \n",
        "   * Concatenates the 128-dim image vector and the 128-dim ingredient summary.  \n",
        "   * Passes the 256 numbers through a small MLP + dropout → 128-dim fused vector.\n",
        "\n",
        "5. **Regressor head**  \n",
        "   * Maps the fused vector to **N** numbers, one for **each ingredient in the\n",
        "     vocabulary**.  \n",
        "   * A final ReLU keeps all predictions ≥ 0 (no negative grams).\n",
        "\n",
        "In short, the network learns to look at the dish, understand which ingredients\n",
        "are present, and output a per-ingredient waste estimate."
      ]
    },
    {
      "cell_type": "code",
      "execution_count": 10,
      "id": "9819000d",
      "metadata": {
        "execution": {
          "iopub.execute_input": "2025-07-31T14:59:47.293449Z",
          "iopub.status.busy": "2025-07-31T14:59:47.293117Z",
          "iopub.status.idle": "2025-07-31T14:59:47.553398Z",
          "shell.execute_reply": "2025-07-31T14:59:47.552650Z",
          "shell.execute_reply.started": "2025-07-31T14:59:47.293429Z"
        },
        "id": "9819000d",
        "papermill": {
          "duration": null,
          "end_time": null,
          "exception": null,
          "start_time": null,
          "status": "pending"
        },
        "tags": [],
        "colab": {
          "base_uri": "https://localhost:8080/"
        },
        "outputId": "6d2ed2bd-132d-44f6-a194-b425b0a96308"
      },
      "outputs": [
        {
          "output_type": "execute_result",
          "data": {
            "text/plain": [
              "FoodWastePredictor(\n",
              "  (resnet): ResNet(\n",
              "    (conv1): Conv2d(3, 64, kernel_size=(7, 7), stride=(2, 2), padding=(3, 3), bias=False)\n",
              "    (bn1): BatchNorm2d(64, eps=1e-05, momentum=0.1, affine=True, track_running_stats=True)\n",
              "    (relu): ReLU(inplace=True)\n",
              "    (maxpool): MaxPool2d(kernel_size=3, stride=2, padding=1, dilation=1, ceil_mode=False)\n",
              "    (layer1): Sequential(\n",
              "      (0): BasicBlock(\n",
              "        (conv1): Conv2d(64, 64, kernel_size=(3, 3), stride=(1, 1), padding=(1, 1), bias=False)\n",
              "        (bn1): BatchNorm2d(64, eps=1e-05, momentum=0.1, affine=True, track_running_stats=True)\n",
              "        (relu): ReLU(inplace=True)\n",
              "        (conv2): Conv2d(64, 64, kernel_size=(3, 3), stride=(1, 1), padding=(1, 1), bias=False)\n",
              "        (bn2): BatchNorm2d(64, eps=1e-05, momentum=0.1, affine=True, track_running_stats=True)\n",
              "      )\n",
              "      (1): BasicBlock(\n",
              "        (conv1): Conv2d(64, 64, kernel_size=(3, 3), stride=(1, 1), padding=(1, 1), bias=False)\n",
              "        (bn1): BatchNorm2d(64, eps=1e-05, momentum=0.1, affine=True, track_running_stats=True)\n",
              "        (relu): ReLU(inplace=True)\n",
              "        (conv2): Conv2d(64, 64, kernel_size=(3, 3), stride=(1, 1), padding=(1, 1), bias=False)\n",
              "        (bn2): BatchNorm2d(64, eps=1e-05, momentum=0.1, affine=True, track_running_stats=True)\n",
              "      )\n",
              "    )\n",
              "    (layer2): Sequential(\n",
              "      (0): BasicBlock(\n",
              "        (conv1): Conv2d(64, 128, kernel_size=(3, 3), stride=(2, 2), padding=(1, 1), bias=False)\n",
              "        (bn1): BatchNorm2d(128, eps=1e-05, momentum=0.1, affine=True, track_running_stats=True)\n",
              "        (relu): ReLU(inplace=True)\n",
              "        (conv2): Conv2d(128, 128, kernel_size=(3, 3), stride=(1, 1), padding=(1, 1), bias=False)\n",
              "        (bn2): BatchNorm2d(128, eps=1e-05, momentum=0.1, affine=True, track_running_stats=True)\n",
              "        (downsample): Sequential(\n",
              "          (0): Conv2d(64, 128, kernel_size=(1, 1), stride=(2, 2), bias=False)\n",
              "          (1): BatchNorm2d(128, eps=1e-05, momentum=0.1, affine=True, track_running_stats=True)\n",
              "        )\n",
              "      )\n",
              "      (1): BasicBlock(\n",
              "        (conv1): Conv2d(128, 128, kernel_size=(3, 3), stride=(1, 1), padding=(1, 1), bias=False)\n",
              "        (bn1): BatchNorm2d(128, eps=1e-05, momentum=0.1, affine=True, track_running_stats=True)\n",
              "        (relu): ReLU(inplace=True)\n",
              "        (conv2): Conv2d(128, 128, kernel_size=(3, 3), stride=(1, 1), padding=(1, 1), bias=False)\n",
              "        (bn2): BatchNorm2d(128, eps=1e-05, momentum=0.1, affine=True, track_running_stats=True)\n",
              "      )\n",
              "    )\n",
              "    (layer3): Sequential(\n",
              "      (0): BasicBlock(\n",
              "        (conv1): Conv2d(128, 256, kernel_size=(3, 3), stride=(2, 2), padding=(1, 1), bias=False)\n",
              "        (bn1): BatchNorm2d(256, eps=1e-05, momentum=0.1, affine=True, track_running_stats=True)\n",
              "        (relu): ReLU(inplace=True)\n",
              "        (conv2): Conv2d(256, 256, kernel_size=(3, 3), stride=(1, 1), padding=(1, 1), bias=False)\n",
              "        (bn2): BatchNorm2d(256, eps=1e-05, momentum=0.1, affine=True, track_running_stats=True)\n",
              "        (downsample): Sequential(\n",
              "          (0): Conv2d(128, 256, kernel_size=(1, 1), stride=(2, 2), bias=False)\n",
              "          (1): BatchNorm2d(256, eps=1e-05, momentum=0.1, affine=True, track_running_stats=True)\n",
              "        )\n",
              "      )\n",
              "      (1): BasicBlock(\n",
              "        (conv1): Conv2d(256, 256, kernel_size=(3, 3), stride=(1, 1), padding=(1, 1), bias=False)\n",
              "        (bn1): BatchNorm2d(256, eps=1e-05, momentum=0.1, affine=True, track_running_stats=True)\n",
              "        (relu): ReLU(inplace=True)\n",
              "        (conv2): Conv2d(256, 256, kernel_size=(3, 3), stride=(1, 1), padding=(1, 1), bias=False)\n",
              "        (bn2): BatchNorm2d(256, eps=1e-05, momentum=0.1, affine=True, track_running_stats=True)\n",
              "      )\n",
              "    )\n",
              "    (layer4): Sequential(\n",
              "      (0): BasicBlock(\n",
              "        (conv1): Conv2d(256, 512, kernel_size=(3, 3), stride=(2, 2), padding=(1, 1), bias=False)\n",
              "        (bn1): BatchNorm2d(512, eps=1e-05, momentum=0.1, affine=True, track_running_stats=True)\n",
              "        (relu): ReLU(inplace=True)\n",
              "        (conv2): Conv2d(512, 512, kernel_size=(3, 3), stride=(1, 1), padding=(1, 1), bias=False)\n",
              "        (bn2): BatchNorm2d(512, eps=1e-05, momentum=0.1, affine=True, track_running_stats=True)\n",
              "        (downsample): Sequential(\n",
              "          (0): Conv2d(256, 512, kernel_size=(1, 1), stride=(2, 2), bias=False)\n",
              "          (1): BatchNorm2d(512, eps=1e-05, momentum=0.1, affine=True, track_running_stats=True)\n",
              "        )\n",
              "      )\n",
              "      (1): BasicBlock(\n",
              "        (conv1): Conv2d(512, 512, kernel_size=(3, 3), stride=(1, 1), padding=(1, 1), bias=False)\n",
              "        (bn1): BatchNorm2d(512, eps=1e-05, momentum=0.1, affine=True, track_running_stats=True)\n",
              "        (relu): ReLU(inplace=True)\n",
              "        (conv2): Conv2d(512, 512, kernel_size=(3, 3), stride=(1, 1), padding=(1, 1), bias=False)\n",
              "        (bn2): BatchNorm2d(512, eps=1e-05, momentum=0.1, affine=True, track_running_stats=True)\n",
              "      )\n",
              "    )\n",
              "    (avgpool): AdaptiveAvgPool2d(output_size=(1, 1))\n",
              "    (fc): Linear(in_features=512, out_features=128, bias=True)\n",
              "  )\n",
              "  (ing_mlp): Sequential(\n",
              "    (0): Linear(in_features=384, out_features=256, bias=True)\n",
              "    (1): ReLU(inplace=True)\n",
              "    (2): Linear(in_features=256, out_features=128, bias=True)\n",
              "    (3): ReLU(inplace=True)\n",
              "  )\n",
              "  (fusion): Sequential(\n",
              "    (0): Linear(in_features=256, out_features=128, bias=True)\n",
              "    (1): ReLU(inplace=True)\n",
              "    (2): Dropout(p=0.2, inplace=False)\n",
              "  )\n",
              "  (q_proj): Linear(in_features=128, out_features=384, bias=False)\n",
              "  (regressor): Linear(in_features=128, out_features=41, bias=True)\n",
              ")"
            ]
          },
          "metadata": {},
          "execution_count": 10
        }
      ],
      "source": [
        "import torch\n",
        "import torch.nn as nn\n",
        "import torch.nn.functional as F\n",
        "from torchvision import models\n",
        "import random\n",
        "class FoodWastePredictor(nn.Module):\n",
        "    \"\"\"\n",
        "    Baseline: ResNet image encoder + pooled SBERT ingredient encoder\n",
        "    \"\"\"\n",
        "    def __init__(self, *, embedding_dim: int = 512, num_ingredients: int):\n",
        "        super().__init__()\n",
        "\n",
        "        # ---------- image branch ----------\n",
        "        self.resnet = models.resnet18(weights=models.ResNet18_Weights.DEFAULT)\n",
        "        img_feats = self.resnet.fc.in_features\n",
        "        self.resnet.fc = nn.Linear(img_feats, 128)          # → (B, 128)\n",
        "\n",
        "        # ---------- ingredient branch ----------\n",
        "        self.ing_mlp = nn.Sequential(                       # (B, 512) → (B, 128)\n",
        "            nn.Linear(embedding_dim, 256),\n",
        "            nn.ReLU(inplace=True),\n",
        "            nn.Linear(256, 128),\n",
        "            nn.ReLU(inplace=True)\n",
        "        )\n",
        "\n",
        "        # ---------- fusion & head ----------\n",
        "        self.fusion = nn.Sequential(\n",
        "            nn.Linear(128 + 128, 128),\n",
        "            nn.ReLU(inplace=True),\n",
        "            nn.Dropout(0.2)\n",
        "        )\n",
        "        self.q_proj = nn.Linear(128, embedding_dim, bias=False)\n",
        "        self.regressor   = nn.Linear(128, num_ingredients)  # (B,N_ing)\n",
        "\n",
        "\n",
        "    def forward(self, images, artikel_emb, return_total=True):\n",
        "        \"\"\"\n",
        "        images: Tensor [B, 3, H, W]\n",
        "        artikel_emb: Tensor [B, L, 512] or list of [L_i, 512] tensors\n",
        "        \"\"\"\n",
        "        # --- image path ---\n",
        "        img_feat = self.resnet(images)                      # (B,128)\n",
        "\n",
        "        # ----- text path -----\n",
        "        if isinstance(artikel_emb, list):                   # list → pad\n",
        "            artikel_emb = nn.utils.rnn.pad_sequence(\n",
        "                artikel_emb, batch_first=True)\n",
        "        # ing_feat = self.ing_mlp(artikel_emb.mean(dim=1))    # (B,128)\n",
        "        token_feat = self.ing_mlp(artikel_emb)              # (B,L,128)\n",
        "        query = self.q_proj(img_feat).unsqueeze(2)\n",
        "        attn_logits = (artikel_emb @ query).squeeze(2)\n",
        "        attn_weights = torch.softmax(attn_logits, dim=1)\n",
        "        ing_feat = (attn_weights.unsqueeze(2) * token_feat).sum(dim=1)  # (B,128)\n",
        "        # ----- fuse & slot predictions -----\n",
        "        combined      = torch.cat((img_feat, ing_feat), dim=1)\n",
        "        fused = self.fusion(combined)                       # (B, 128)\n",
        "        return F.relu(self.regressor(fused))\n",
        "\n",
        "def set_seed(seed):\n",
        "    torch.manual_seed(seed)\n",
        "    np.random.seed(seed)\n",
        "    random.seed(seed)\n",
        "    if torch.cuda.is_available():\n",
        "        torch.cuda.manual_seed_all(seed)\n",
        "set_seed(42)\n",
        "embedding_dim = 384                         # SBERT output size\n",
        "model = FoodWastePredictor(embedding_dim=embedding_dim,\n",
        "                           num_ingredients=NUM_ING)\n",
        "\n",
        "\n",
        "device = torch.device(\"cuda\" if torch.cuda.is_available() else \"cpu\")\n",
        "model.to(device)"
      ]
    },
    {
      "cell_type": "markdown",
      "id": "2f12907a",
      "metadata": {
        "id": "2f12907a",
        "papermill": {
          "duration": null,
          "end_time": null,
          "exception": null,
          "start_time": null,
          "status": "pending"
        },
        "tags": []
      },
      "source": [
        "# Training\n",
        "\n",
        "We train the model for **30 epochs** with mini-batch gradient descent, an **Adam**\n",
        "optimizer (`lr = 1e-3`), and two complementary loss terms.\n",
        "\n",
        "---\n",
        "\n",
        "## Loss components\n",
        "\n",
        "* **Weighted ingredient-level MSE**\n",
        "  * Computes the squared error for **every ingredient** in the vocabulary.  \n",
        "    ```python\n",
        "    diff_sq = F.mse_loss(outputs, targets, reduction=\"none\")   # (B, N_ing)\n",
        "    loss = (diff_sq * weight_vec).mean()                       # weight rare ↗\n",
        "    ```\n",
        "  * `weight_vec = 1 / log(freq + 2)` — rare ingredients get larger weights,\n",
        "    so their errors matter just as much as those of common staples.\n",
        "\n",
        "* **Plate-level L1 consistency penalty**\n",
        "  * Ensures the **sum** of all predicted grams matches the true total waste\n",
        "    on the plate.  \n",
        "    ```python\n",
        "    tot_pred = outputs.sum(1)     # predicted total per dish\n",
        "    tot_true = targets.sum(1)     # ground-truth total\n",
        "    total_loss = loss + 1e-3 * F.l1_loss(tot_pred, tot_true)\n",
        "    ```\n",
        "  * Uses **L1 (absolute) error** because it is:\n",
        "    * Symmetric for over- vs. under-estimates.\n",
        "    * More **robust to outliers** than another MSE term.\n",
        "    * Encourages sparse, targeted corrections, keeping the overall mass\n",
        "      balance realistic.\n",
        "\n",
        "> **Final objective**  \n",
        "> `total_loss = ingredient_MSE_weighted + 0.001 × plate_L1`\n",
        "\n",
        "## Target jittering\n",
        "\n",
        "* Before each backward pass we lightly noise every non-zero gram value:\n",
        "  ```python\n",
        "  targets = jitter_targets(targets, epsilon=1.0)   # ±1 g\n",
        "  ```"
      ]
    },
    {
      "cell_type": "code",
      "execution_count": 11,
      "id": "4bdd431d",
      "metadata": {
        "execution": {
          "iopub.execute_input": "2025-07-31T14:59:49.387031Z",
          "iopub.status.busy": "2025-07-31T14:59:49.386671Z",
          "iopub.status.idle": "2025-07-31T15:02:44.058257Z",
          "shell.execute_reply": "2025-07-31T15:02:44.057362Z",
          "shell.execute_reply.started": "2025-07-31T14:59:49.387005Z"
        },
        "id": "4bdd431d",
        "papermill": {
          "duration": null,
          "end_time": null,
          "exception": null,
          "start_time": null,
          "status": "pending"
        },
        "tags": [],
        "colab": {
          "base_uri": "https://localhost:8080/"
        },
        "outputId": "23a89b00-46e2-485c-b13f-b5451893b5af"
      },
      "outputs": [
        {
          "output_type": "stream",
          "name": "stdout",
          "text": [
            "Starting training...\n",
            "Epoch [1/30], Loss: 36.1214\n",
            "Epoch [2/30], Loss: 28.7008\n",
            "Epoch [3/30], Loss: 23.2098\n",
            "Epoch [4/30], Loss: 18.5685\n",
            "Epoch [5/30], Loss: 16.1873\n",
            "Epoch [6/30], Loss: 11.9857\n",
            "Epoch [7/30], Loss: 9.1906\n",
            "Epoch [8/30], Loss: 8.2737\n",
            "Epoch [9/30], Loss: 6.9419\n",
            "Epoch [10/30], Loss: 6.4298\n",
            "Epoch [11/30], Loss: 6.1594\n",
            "Epoch [12/30], Loss: 5.6905\n",
            "Epoch [13/30], Loss: 5.2223\n",
            "Epoch [14/30], Loss: 5.6078\n",
            "Epoch [15/30], Loss: 5.6166\n",
            "Epoch [16/30], Loss: 4.9629\n",
            "Epoch [17/30], Loss: 5.0349\n",
            "Epoch [18/30], Loss: 4.8580\n",
            "Epoch [19/30], Loss: 4.7255\n",
            "Epoch [20/30], Loss: 4.9137\n",
            "Epoch [21/30], Loss: 4.4699\n",
            "Epoch [22/30], Loss: 4.8150\n",
            "Epoch [23/30], Loss: 4.6581\n",
            "Epoch [24/30], Loss: 4.3994\n",
            "Epoch [25/30], Loss: 4.3378\n",
            "Epoch [26/30], Loss: 3.9693\n",
            "Epoch [27/30], Loss: 3.7601\n",
            "Epoch [28/30], Loss: 3.3259\n",
            "Epoch [29/30], Loss: 3.2290\n",
            "Epoch [30/30], Loss: 3.0985\n",
            "Training finished.\n"
          ]
        }
      ],
      "source": [
        "import torch.optim as optim\n",
        "# Define Loss Function (Mean Squared Error for regression)\n",
        "# With reduction='none' returns the element-wise squared error\n",
        "criterion  = nn.MSELoss(reduction='none')\n",
        "# Define Optimizer (Adam optimizer)\n",
        "optimizer = optim.Adam(model.parameters(), lr=0.001)\n",
        "\n",
        "# Move model to GPU if available\n",
        "device = torch.device(\"cuda\" if torch.cuda.is_available() else \"cpu\")\n",
        "model.to(device)\n",
        "\n",
        "# Training Loop\n",
        "num_epochs = 30\n",
        "\n",
        "print(\"Starting training...\")\n",
        "for epoch in range(num_epochs):\n",
        "    model.train()  # Set the model to training mode\n",
        "    running_loss = 0.0\n",
        "    for images, ingredients, targets in train_loader:\n",
        "        images         = images.to(device)\n",
        "        ingredients    = [seq.to(device) for seq in ingredients]\n",
        "        targets  = targets.to(device)\n",
        "        targets = jitter_targets(targets, epsilon=1.)\n",
        "        optimizer.zero_grad()\n",
        "        outputs = model(images, ingredients)\n",
        "        tot_pred = outputs.sum(1)\n",
        "        tot_true = targets.sum(1)\n",
        "        diff_sq = criterion(outputs, targets)\n",
        "        loss = (diff_sq * weight_vec).mean()\n",
        "        total_loss = loss + 0.001 * F.l1_loss(tot_pred, tot_true)\n",
        "        total_loss.backward()\n",
        "        optimizer.step()\n",
        "\n",
        "        running_loss += loss.item() * images.size(0)\n",
        "\n",
        "    epoch_loss = running_loss / len(train_dataset)\n",
        "    print(f\"Epoch [{epoch+1}/{num_epochs}], Loss: {epoch_loss:.4f}\")\n",
        "\n",
        "print(\"Training finished.\")"
      ]
    },
    {
      "cell_type": "markdown",
      "id": "700acfee",
      "metadata": {
        "id": "700acfee",
        "papermill": {
          "duration": null,
          "end_time": null,
          "exception": null,
          "start_time": null,
          "status": "pending"
        },
        "tags": []
      },
      "source": [
        "# Metrics\n",
        "\n",
        "After training we check how well the model performs on the **test set** with a\n",
        "few easy-to-interpret numbers and plots.\n",
        "\n",
        "---\n",
        "\n",
        "## How we generate predictions\n",
        "```python\n",
        "y_true, y_pred, true_total, pred_total = get_predictions(model, test_loader, device)\n",
        "```\n",
        "-\tRuns the model once in eval mode (no gradients).\n",
        "-\tCollects:\n",
        "-\ty_true – ground-truth grams per ingredient, shape (N, N_ing).\n",
        "-\ty_pred – model predictions in the same shape.\n",
        "-\ttrue_total / pred_total – per-plate totals (sum(axis=1)).\n",
        "\n",
        "---\n",
        "\n",
        "## Reporting\n",
        "\n",
        "- **Ingredient-level errors**\n",
        "\t-\tMSE – mean squared error (sensitive to big mistakes).\n",
        "\t-\tRMSE – square-rooted MSE, back in “grams” units.\n",
        "\t-\tMAE – mean absolute error, easier to read than MSE.\n",
        "\t-\tR² – 1 = perfect, 0 = predicting the mean, <0 = worse than mean.\n",
        "- **Plate-level checks**\n",
        "  - Total-waste MAE – average absolute difference between the predicted and\n",
        "true total grams on each plate.\n",
        "  - Spearman ρ – rank correlation between true_total and pred_total; good\n",
        "when you care about ordering plates by waste rather than exact numbers."
      ]
    },
    {
      "cell_type": "code",
      "execution_count": 12,
      "id": "e26b96f3",
      "metadata": {
        "execution": {
          "iopub.execute_input": "2025-07-31T15:03:53.478570Z",
          "iopub.status.busy": "2025-07-31T15:03:53.478284Z",
          "iopub.status.idle": "2025-07-31T15:03:53.486364Z",
          "shell.execute_reply": "2025-07-31T15:03:53.485684Z",
          "shell.execute_reply.started": "2025-07-31T15:03:53.478553Z"
        },
        "id": "e26b96f3",
        "papermill": {
          "duration": null,
          "end_time": null,
          "exception": null,
          "start_time": null,
          "status": "pending"
        },
        "tags": []
      },
      "outputs": [],
      "source": [
        "from sklearn.metrics import mean_squared_error, mean_absolute_error, r2_score\n",
        "import numpy as np\n",
        "import torch\n",
        "from scipy.stats import spearmanr\n",
        "\n",
        "def get_predictions(model, loader, device):\n",
        "    model.eval()\n",
        "    y_true, y_pred = [], []\n",
        "\n",
        "    with torch.no_grad():\n",
        "        for imgs, ingredients, targets in loader:\n",
        "            imgs     = imgs.to(device)\n",
        "            ingredients     = [ing.to(device) for ing in ingredients]\n",
        "            targets  = targets.to(device)\n",
        "\n",
        "            preds = model(imgs, ingredients)\n",
        "\n",
        "            y_true.append(targets.cpu().numpy())\n",
        "            y_pred.append(preds.cpu().numpy())\n",
        "\n",
        "    y_true = np.concatenate(y_true, axis=0)   # (N, num_ing)\n",
        "    y_pred = np.concatenate(y_pred, axis=0)\n",
        "    true_total = y_true.sum(axis=1)\n",
        "    pred_total = y_pred.sum(axis=1)\n",
        "    return y_true, y_pred, true_total, pred_total\n",
        "def evaluate(y_true, y_pred, true_total, pred_total):\n",
        "    mae_total  = np.abs(pred_total - true_total).mean()\n",
        "    rho, _     = spearmanr(true_total, pred_total)\n",
        "\n",
        "    print(f\"\\nTotal-waste MAE: {mae_total:.3f}   Spearman ρ: {rho:.3f}\")\n",
        "    mse  = mean_squared_error(y_true, y_pred)\n",
        "    rmse = np.sqrt(mse)\n",
        "    mae  = mean_absolute_error(y_true, y_pred)\n",
        "    r2   = r2_score(y_true, y_pred)\n",
        "    return {\"MSE\": mse, \"RMSE\": rmse, \"MAE\": mae, \"R²\": r2}"
      ]
    },
    {
      "cell_type": "code",
      "execution_count": 13,
      "id": "e5c8ab6f",
      "metadata": {
        "execution": {
          "iopub.execute_input": "2025-07-31T15:03:54.163959Z",
          "iopub.status.busy": "2025-07-31T15:03:54.163620Z",
          "iopub.status.idle": "2025-07-31T15:04:02.079359Z",
          "shell.execute_reply": "2025-07-31T15:04:02.078503Z",
          "shell.execute_reply.started": "2025-07-31T15:03:54.163933Z"
        },
        "id": "e5c8ab6f",
        "papermill": {
          "duration": null,
          "end_time": null,
          "exception": null,
          "start_time": null,
          "status": "pending"
        },
        "tags": [],
        "colab": {
          "base_uri": "https://localhost:8080/"
        },
        "outputId": "46a26502-7ca4-4662-8a4d-089f821820be"
      },
      "outputs": [
        {
          "output_type": "stream",
          "name": "stdout",
          "text": [
            "\n",
            "Total-waste MAE: 36.767   Spearman ρ: 0.133\n",
            "\n",
            "Test metrics:\n",
            " MSE: 125.3144\n",
            "RMSE: 11.1944\n",
            " MAE: 3.2662\n",
            "  R²: 0.4164\n"
          ]
        }
      ],
      "source": [
        "y_true, y_pred, true_total, pred_total = get_predictions(model, test_loader, device)\n",
        "metrics = evaluate(y_true, y_pred, true_total, pred_total)\n",
        "print(\"\\nTest metrics:\")\n",
        "for k, v in metrics.items():\n",
        "    print(f\"{k:>4}: {v:.4f}\")"
      ]
    },
    {
      "cell_type": "markdown",
      "id": "3d8a6afd",
      "metadata": {
        "id": "3d8a6afd",
        "papermill": {
          "duration": null,
          "end_time": null,
          "exception": null,
          "start_time": null,
          "status": "pending"
        },
        "tags": []
      },
      "source": [
        "## Visual Check\n",
        "\n",
        "Each point is a plate, the perfect prediction would be a diagonal line y = x"
      ]
    },
    {
      "cell_type": "code",
      "execution_count": 14,
      "id": "66ba7b72",
      "metadata": {
        "execution": {
          "iopub.execute_input": "2025-07-31T15:04:02.081375Z",
          "iopub.status.busy": "2025-07-31T15:04:02.080665Z",
          "iopub.status.idle": "2025-07-31T15:04:02.244791Z",
          "shell.execute_reply": "2025-07-31T15:04:02.243848Z",
          "shell.execute_reply.started": "2025-07-31T15:04:02.081353Z"
        },
        "id": "66ba7b72",
        "papermill": {
          "duration": null,
          "end_time": null,
          "exception": null,
          "start_time": null,
          "status": "pending"
        },
        "tags": [],
        "colab": {
          "base_uri": "https://localhost:8080/",
          "height": 449
        },
        "outputId": "a1789ce4-805a-4f25-9ff3-baf6381a5584"
      },
      "outputs": [
        {
          "output_type": "display_data",
          "data": {
            "text/plain": [
              "<Figure size 640x480 with 1 Axes>"
            ],
            "image/png": "[encoded data removed]"
          },
          "metadata": {}
        }
      ],
      "source": [
        "import matplotlib.pyplot as plt\n",
        "plt.scatter(true_total, pred_total, alpha=0.4)\n",
        "plt.xlabel(\"True total waste\"); plt.ylabel(\"Predicted total\"); plt.xlim(0); plt.ylim(0)\n",
        "plt.show()"
      ]
    },
    {
      "cell_type": "markdown",
      "id": "57fa9177",
      "metadata": {
        "id": "57fa9177",
        "papermill": {
          "duration": null,
          "end_time": null,
          "exception": null,
          "start_time": null,
          "status": "pending"
        },
        "tags": []
      },
      "source": [
        "## Bias Analysis\n",
        "\n",
        "Shows which ingredients the model over- or under-estimates on average and\n",
        "by how many grams. Helpful for targeted data collection or model tweaks."
      ]
    },
    {
      "cell_type": "code",
      "execution_count": 15,
      "id": "5f4c43ad",
      "metadata": {
        "execution": {
          "iopub.execute_input": "2025-07-31T15:04:02.246126Z",
          "iopub.status.busy": "2025-07-31T15:04:02.245740Z",
          "iopub.status.idle": "2025-07-31T15:04:02.251176Z",
          "shell.execute_reply": "2025-07-31T15:04:02.250313Z",
          "shell.execute_reply.started": "2025-07-31T15:04:02.246102Z"
        },
        "id": "5f4c43ad",
        "papermill": {
          "duration": null,
          "end_time": null,
          "exception": null,
          "start_time": null,
          "status": "pending"
        },
        "tags": [],
        "colab": {
          "base_uri": "https://localhost:8080/"
        },
        "outputId": "d046b865-0da6-45ca-ac07-290f7592d464"
      },
      "outputs": [
        {
          "output_type": "stream",
          "name": "stdout",
          "text": [
            "lentil-stew                    bias=-22.75\n",
            "chicken                        bias=+12.54\n",
            "potato-pancakes-or-potato-fritters bias=-11.50\n",
            "sauerkraut                     bias=-10.87\n",
            "pork-neck-roast                bias=-8.25\n",
            "red-cabbage                    bias=+7.57\n",
            "savoy-cabbage                  bias=-6.00\n",
            "ham-sausage                    bias=-5.75\n",
            "mashed-potatoes                bias=+5.50\n",
            "light-sauce-or-white-sauce     bias=-4.71\n"
          ]
        }
      ],
      "source": [
        "bias = (y_pred - y_true).mean(axis=0)          # shape (num_ing,)\n",
        "worst = np.argsort(np.abs(bias))[-10:]\n",
        "for i in worst[::-1]:\n",
        "    print(f\"{idx2ing[i]:<30} bias={bias[i]:+.2f}\")"
      ]
    },
    {
      "cell_type": "code",
      "execution_count": 16,
      "id": "1d19d9c4",
      "metadata": {
        "execution": {
          "iopub.execute_input": "2025-07-31T15:04:02.253092Z",
          "iopub.status.busy": "2025-07-31T15:04:02.252816Z",
          "iopub.status.idle": "2025-07-31T15:04:02.268261Z",
          "shell.execute_reply": "2025-07-31T15:04:02.267659Z",
          "shell.execute_reply.started": "2025-07-31T15:04:02.253073Z"
        },
        "id": "1d19d9c4",
        "papermill": {
          "duration": null,
          "end_time": null,
          "exception": null,
          "start_time": null,
          "status": "pending"
        },
        "tags": [],
        "colab": {
          "base_uri": "https://localhost:8080/"
        },
        "outputId": "b434a8f5-c498-46c8-9fb6-a3f715c82000"
      },
      "outputs": [
        {
          "output_type": "execute_result",
          "data": {
            "text/plain": [
              "array([ 0.       ,  0.       ,  0.       ,  8.934581 ,  0.       ,\n",
              "        0.       , 12.975461 ,  0.       ,  0.       ,  0.       ,\n",
              "        0.       ,  0.       ,  0.       ,  0.784807 ,  0.       ,\n",
              "        7.7134914,  0.       ,  0.       ,  0.       ,  0.       ,\n",
              "        0.       ,  0.       , 11.882784 ,  0.       ,  0.       ,\n",
              "        0.       ,  0.       ,  0.       ,  0.       ,  0.       ,\n",
              "        0.       , 12.466713 ,  2.6875138,  0.       ,  0.       ,\n",
              "        6.858057 ,  0.       ,  0.       ,  0.       ,  0.       ,\n",
              "        0.       ], dtype=float32)"
            ]
          },
          "metadata": {},
          "execution_count": 16
        }
      ],
      "source": [
        "y_pred[40]"
      ]
    },
    {
      "cell_type": "code",
      "execution_count": 17,
      "id": "944edd5d",
      "metadata": {
        "execution": {
          "iopub.execute_input": "2025-07-31T15:04:02.269273Z",
          "iopub.status.busy": "2025-07-31T15:04:02.268938Z",
          "iopub.status.idle": "2025-07-31T15:04:02.283037Z",
          "shell.execute_reply": "2025-07-31T15:04:02.282327Z",
          "shell.execute_reply.started": "2025-07-31T15:04:02.269253Z"
        },
        "id": "944edd5d",
        "papermill": {
          "duration": null,
          "end_time": null,
          "exception": null,
          "start_time": null,
          "status": "pending"
        },
        "tags": [],
        "colab": {
          "base_uri": "https://localhost:8080/"
        },
        "outputId": "fde2c2ac-dcde-416e-91e6-0d015b17cc6d"
      },
      "outputs": [
        {
          "output_type": "execute_result",
          "data": {
            "text/plain": [
              "array([ 0.,  0.,  0.,  0.,  0.,  0.,  0.,  0.,  0.,  0.,  0.,  0.,  0.,\n",
              "        0.,  0.,  0., 23.,  0., 91.,  0.,  0.,  0.,  0.,  0.,  0.,  0.,\n",
              "        0.,  0.,  0.,  0.,  0.,  0.,  0.,  0.,  0.,  0.,  0.,  0.,  0.,\n",
              "        0.,  0.], dtype=float32)"
            ]
          },
          "metadata": {},
          "execution_count": 17
        }
      ],
      "source": [
        "y_true[40]\n"
      ]
    },
    {
      "cell_type": "markdown",
      "id": "737a7bd3",
      "metadata": {
        "id": "737a7bd3",
        "papermill": {
          "duration": null,
          "end_time": null,
          "exception": null,
          "start_time": null,
          "status": "pending"
        },
        "tags": []
      },
      "source": [
        "# Things to try out\n",
        "\n",
        "- **CLIP embeddings in place of SBERT + ResNet**\n",
        "  - Use `openai/clip-vit-base-patch32` (or a food-tuned variant) to create joint image–text embeddings for each **(photo, ingredient-string)** pair.\n",
        "  - Fine-tune only a small regression head; a frozen CLIP backbone often beats separate CNN + SBERT branches on small datasets.\n",
        "\n",
        "- **Segment Anything + Grounding DINO**\n",
        "  - Locate each ingredient with open-set detection (Grounding DINO) and pixel-accurate masks with SAM.\n",
        "  - Feed the crop or mask-area ratio into the model so it knows **how much** of each ingredient is visible, not just that it exists.\n",
        "  - Use mask area as a pseudo-label (area ≈ weight) to pre-train a mask-to-grams regressor.\n",
        "\n",
        "- **Tackle data imbalance**\n",
        "  - Use a weighted sampler / oversampling to show rare-ingredient plates more often and address the long tail.\n",
        "  - Apply image-level data augmentation (flips, color jitter, cutout, etc.) to enlarge the effective dataset.\n",
        "\n",
        "Pick **one** idea, implement it, evaluate on the test set, and document how the metrics change compared with the baseline."
      ]
    },
    {
      "cell_type": "code",
      "source": [],
      "metadata": {
        "id": "qKwVY3zfLrvA"
      },
      "id": "qKwVY3zfLrvA",
      "execution_count": null,
      "outputs": []
    }
  ],
  "metadata": {
    "colab": {
      "provenance": [],
      "toc_visible": true,
      "gpuType": "T4"
    },
    "kaggle": {
      "accelerator": "gpu",
      "dataSources": [],
      "dockerImageVersionId": 31090,
      "isGpuEnabled": true,
      "isInternetEnabled": true,
      "language": "python",
      "sourceType": "notebook"
    },
    "kernelspec": {
      "display_name": "Python 3",
      "name": "python3"
    },
    "language_info": {
      "codemirror_mode": {
        "name": "ipython",
        "version": 3
      },
      "file_extension": ".py",
      "mimetype": "text/x-python",
      "name": "python",
      "nbconvert_exporter": "python",
      "pygments_lexer": "ipython3",
      "version": "3.11.13"
    },
    "papermill": {
      "default_parameters": {},
      "duration": 99.758634,
      "end_time": "2025-07-31T16:36:46.784435",
      "environment_variables": {},
      "exception": true,
      "input_path": "__notebook__.ipynb",
      "output_path": "__notebook__.ipynb",
      "parameters": {},
      "start_time": "2025-07-31T16:35:07.025801",
      "version": "2.6.0"
    },
    "accelerator": "GPU"
  },
  "nbformat": 4,
  "nbformat_minor": 5
}